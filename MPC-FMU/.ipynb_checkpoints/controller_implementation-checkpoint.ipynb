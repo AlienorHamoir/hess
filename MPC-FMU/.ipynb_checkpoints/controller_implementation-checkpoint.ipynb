{
 "cells": [
  {
   "cell_type": "code",
   "execution_count": 1,
   "id": "41ea00b2-8cf4-4086-b832-4096b4d3d277",
   "metadata": {},
   "outputs": [
    {
     "name": "stdout",
     "output_type": "stream",
     "text": [
      "Collecting git+https://github.com/LBNL-ETA/DOPER\n",
      "  Cloning https://github.com/LBNL-ETA/DOPER to /tmp/pip-req-build-6iitro4b\n",
      "  Running command git clone --filter=blob:none --quiet https://github.com/LBNL-ETA/DOPER /tmp/pip-req-build-6iitro4b\n",
      "  Resolved https://github.com/LBNL-ETA/DOPER to commit 139ddd78c856b12385fb9d9b72f533b348006984\n",
      "  Preparing metadata (setup.py) ... \u001b[?25ldone\n",
      "\u001b[?25hRequirement already satisfied: numpy in /usr/local/lib/python3.10/dist-packages (from DOPER==2.1.1) (1.26.4)\n",
      "Requirement already satisfied: pandas in /usr/local/lib/python3.10/dist-packages (from DOPER==2.1.1) (2.2.1)\n",
      "Requirement already satisfied: pyomo>6.0 in /usr/local/lib/python3.10/dist-packages (from DOPER==2.1.1) (6.7.1)\n",
      "Requirement already satisfied: matplotlib in /usr/local/lib/python3.10/dist-packages (from DOPER==2.1.1) (3.8.3)\n",
      "Collecting fmlc (from DOPER==2.1.1)\n",
      "  Downloading FMLC-1.2.2-py3-none-any.whl.metadata (4.7 kB)\n",
      "Requirement already satisfied: pyutilib in /usr/local/lib/python3.10/dist-packages (from DOPER==2.1.1) (6.0.0)\n",
      "Requirement already satisfied: ply in /usr/local/lib/python3.10/dist-packages (from pyomo>6.0->DOPER==2.1.1) (3.11)\n",
      "Requirement already satisfied: requests in /usr/local/lib/python3.10/dist-packages (from fmlc->DOPER==2.1.1) (2.31.0)\n",
      "Requirement already satisfied: contourpy>=1.0.1 in /usr/local/lib/python3.10/dist-packages (from matplotlib->DOPER==2.1.1) (1.2.0)\n",
      "Requirement already satisfied: cycler>=0.10 in /usr/local/lib/python3.10/dist-packages (from matplotlib->DOPER==2.1.1) (0.12.1)\n",
      "Requirement already satisfied: fonttools>=4.22.0 in /usr/local/lib/python3.10/dist-packages (from matplotlib->DOPER==2.1.1) (4.49.0)\n",
      "Requirement already satisfied: kiwisolver>=1.3.1 in /usr/local/lib/python3.10/dist-packages (from matplotlib->DOPER==2.1.1) (1.4.5)\n",
      "Requirement already satisfied: packaging>=20.0 in /usr/local/lib/python3.10/dist-packages (from matplotlib->DOPER==2.1.1) (23.2)\n",
      "Requirement already satisfied: pillow>=8 in /usr/local/lib/python3.10/dist-packages (from matplotlib->DOPER==2.1.1) (10.2.0)\n",
      "Requirement already satisfied: pyparsing>=2.3.1 in /usr/local/lib/python3.10/dist-packages (from matplotlib->DOPER==2.1.1) (3.1.2)\n",
      "Requirement already satisfied: python-dateutil>=2.7 in /usr/local/lib/python3.10/dist-packages (from matplotlib->DOPER==2.1.1) (2.9.0.post0)\n",
      "Requirement already satisfied: pytz>=2020.1 in /usr/local/lib/python3.10/dist-packages (from pandas->DOPER==2.1.1) (2024.1)\n",
      "Requirement already satisfied: tzdata>=2022.7 in /usr/local/lib/python3.10/dist-packages (from pandas->DOPER==2.1.1) (2024.1)\n",
      "Requirement already satisfied: nose in /usr/local/lib/python3.10/dist-packages (from pyutilib->DOPER==2.1.1) (1.3.7)\n",
      "Requirement already satisfied: six in /usr/lib/python3/dist-packages (from pyutilib->DOPER==2.1.1) (1.16.0)\n",
      "Requirement already satisfied: charset-normalizer<4,>=2 in /usr/local/lib/python3.10/dist-packages (from requests->fmlc->DOPER==2.1.1) (3.3.2)\n",
      "Requirement already satisfied: idna<4,>=2.5 in /usr/local/lib/python3.10/dist-packages (from requests->fmlc->DOPER==2.1.1) (3.6)\n",
      "Requirement already satisfied: urllib3<3,>=1.21.1 in /usr/local/lib/python3.10/dist-packages (from requests->fmlc->DOPER==2.1.1) (2.2.1)\n",
      "Requirement already satisfied: certifi>=2017.4.17 in /usr/local/lib/python3.10/dist-packages (from requests->fmlc->DOPER==2.1.1) (2024.2.2)\n",
      "Downloading FMLC-1.2.2-py3-none-any.whl (17 kB)\n",
      "Building wheels for collected packages: DOPER\n",
      "  Building wheel for DOPER (setup.py) ... \u001b[?25ldone\n",
      "\u001b[?25h  Created wheel for DOPER: filename=DOPER-2.1.1-py3-none-any.whl size=6005959 sha256=f40a71a17c2db8e59dafbf48da1bd68a6479fc78aad64bf3474625bdd79da810\n",
      "  Stored in directory: /tmp/pip-ephem-wheel-cache-gn8fihde/wheels/61/c9/71/ccfe329fed449d90b13ae642b4131c25473dadb6cf8de18692\n",
      "Successfully built DOPER\n",
      "Installing collected packages: fmlc, DOPER\n",
      "Successfully installed DOPER-2.1.1 fmlc-1.2.2\n",
      "\u001b[33mWARNING: Running pip as the 'root' user can result in broken permissions and conflicting behaviour with the system package manager. It is recommended to use a virtual environment instead: https://pip.pypa.io/warnings/venv\u001b[0m\u001b[33m\n",
      "\u001b[0m\n",
      "\u001b[1m[\u001b[0m\u001b[34;49mnotice\u001b[0m\u001b[1;39;49m]\u001b[0m\u001b[39;49m A new release of pip is available: \u001b[0m\u001b[31;49m24.0\u001b[0m\u001b[39;49m -> \u001b[0m\u001b[32;49m24.2\u001b[0m\n",
      "\u001b[1m[\u001b[0m\u001b[34;49mnotice\u001b[0m\u001b[1;39;49m]\u001b[0m\u001b[39;49m To update, run: \u001b[0m\u001b[32;49mpython3 -m pip install --upgrade pip\u001b[0m\n"
     ]
    }
   ],
   "source": [
    "!pip install git+https://github.com/LBNL-ETA/DOPER"
   ]
  },
  {
   "cell_type": "code",
   "execution_count": 5,
   "id": "8bd5329a-287a-40f3-856c-fffc7ebd724c",
   "metadata": {},
   "outputs": [],
   "source": [
    "from doper import DOPER, get_solver, standard_report\n",
    "from doper.models.basemodel import base_model\n",
    "from doper.models.battery import add_battery\n",
    "# import doper.example as example"
   ]
  },
  {
   "cell_type": "code",
   "execution_count": 7,
   "id": "11354c32-0ed4-4d3c-a299-98ace894bbe9",
   "metadata": {},
   "outputs": [],
   "source": [
    "from pyomo.environ import Objective, minimize\n",
    "\n",
    "def control_model(inputs, parameter):\n",
    "    model = base_model(inputs, parameter)\n",
    "    model = add_battery(model, inputs, parameter)\n",
    "    \n",
    "    def objective_function(model):\n",
    "        return model.sum_energy_cost * parameter['objective']['weight_energy'] \\\n",
    "               + model.sum_demand_cost * parameter['objective']['weight_demand'] \\\n",
    "               - model.sum_export_revenue * parameter['objective']['weight_export']\n",
    "    model.objective = Objective(rule=objective_function, sense=minimize, doc='objective function')\n",
    "    return model"
   ]
  },
  {
   "cell_type": "code",
   "execution_count": 8,
   "id": "d47a772f-d856-46f8-8ee3-e8291af359b9",
   "metadata": {},
   "outputs": [
    {
     "ename": "NameError",
     "evalue": "name 'example' is not defined",
     "output_type": "error",
     "traceback": [
      "\u001b[0;31m---------------------------------------------------------------------------\u001b[0m",
      "\u001b[0;31mNameError\u001b[0m                                 Traceback (most recent call last)",
      "Cell \u001b[0;32mIn[8], line 2\u001b[0m\n\u001b[1;32m      1\u001b[0m \u001b[38;5;66;03m# load generic project parameter from example\u001b[39;00m\n\u001b[0;32m----> 2\u001b[0m parameter \u001b[38;5;241m=\u001b[39m \u001b[43mexample\u001b[49m\u001b[38;5;241m.\u001b[39mdefault_parameter()\n",
      "\u001b[0;31mNameError\u001b[0m: name 'example' is not defined"
     ]
    }
   ],
   "source": [
    "# load generic project parameter from example\n",
    "parameter = example.default_parameter()"
   ]
  },
  {
   "cell_type": "code",
   "execution_count": null,
   "id": "e6d77028-08c6-410a-b763-dcc71c7a76b1",
   "metadata": {},
   "outputs": [],
   "source": [
    "# Define Optimization (Time-series) Input\n",
    "dataPV \n",
    "dataLoad"
   ]
  },
  {
   "cell_type": "code",
   "execution_count": null,
   "id": "1116c504-22f9-41aa-bc74-2f9d68bb7b13",
   "metadata": {},
   "outputs": [],
   "source": [
    "# Define the path to the solver executable\n",
    "solver_path = get_solver('cbc')\n",
    "\n",
    "# Initialize DOPER\n",
    "smartDER = DOPER(model=control_model,\n",
    "                 parameter=parameter,\n",
    "                 solver_path=solver_path,\n",
    "                output_list=my_output_list)\n",
    "\n",
    "# Conduct optimization\n",
    "res = smartDER.do_optimization(data)\n",
    "\n",
    "# Get results\n",
    "duration, objective, df, model, result, termination, parameter = res\n",
    "print(standard_report(res))"
   ]
  },
  {
   "cell_type": "code",
   "execution_count": null,
   "id": "94a0d5ec-1806-4b98-a669-09d2501058b4",
   "metadata": {},
   "outputs": [],
   "source": [
    "my_output_list = [\n",
    "    {\n",
    "        'data': '{var or param name within pyomo model}',\n",
    "        'df_label': '{Label for your output column}'\n",
    "    },\n",
    "    {\n",
    "        'data': '{another var or param}',\n",
    "        'df_label': '{another label for your output column}'\n",
    "    } \n",
    "]\n"
   ]
  },
  {
   "cell_type": "code",
   "execution_count": 10,
   "id": "08a802dd-544e-4ea9-b1cc-c5a4eb15bf1c",
   "metadata": {},
   "outputs": [
    {
     "ename": "NameError",
     "evalue": "name 'parameter' is not defined",
     "output_type": "error",
     "traceback": [
      "\u001b[0;31m---------------------------------------------------------------------------\u001b[0m",
      "\u001b[0;31mNameError\u001b[0m                                 Traceback (most recent call last)",
      "Cell \u001b[0;32mIn[10], line 21\u001b[0m\n\u001b[1;32m     18\u001b[0m         \u001b[38;5;28;01mreturn\u001b[39;00m data\n\u001b[1;32m     20\u001b[0m \u001b[38;5;66;03m# add preprocessor to fmi_gym\u001b[39;00m\n\u001b[0;32m---> 21\u001b[0m \u001b[43mparameter\u001b[49m[\u001b[38;5;124m'\u001b[39m\u001b[38;5;124mpreprocessor\u001b[39m\u001b[38;5;124m'\u001b[39m] \u001b[38;5;241m=\u001b[39m microgrid_preprocessor\n",
      "\u001b[0;31mNameError\u001b[0m: name 'parameter' is not defined"
     ]
    }
   ],
   "source": [
    "# define preprocessor (inputs/outputs much conform with FMI-MLC, see Test_fmi_gym.ipynb)\n",
    "class microgrid_preprocessor:\n",
    "    def __init__(self, fmi_gym_parameter):\n",
    "        self.fmi_gym_parameter = fmi_gym_parameter\n",
    "\n",
    "    def do_calc(self, data, init):\n",
    "\n",
    "        # preprocess inputs for controller: Data Selection: The first 24 rows might represent a specific time period or batch of data that the controller needs to operate on. For example, if each row represents one hour, this could represent a 24-hour period.\n",
    "        ctrl_inputs = data.iloc[:24]\n",
    "\n",
    "        # compute controller\n",
    "        action = controller(ctrl_inputs) # need to define your controller as separate function\n",
    "\n",
    "        # append action to inputs\n",
    "        data['P_set_battery'] = action['P_set_battery']\n",
    "        data['P_set_FC'] = action['P_set_FC']\n",
    "\n",
    "        return data\n",
    "\n",
    "# add preprocessor to fmi_gym\n",
    "parameter['preprocessor'] = microgrid_preprocessor"
   ]
  },
  {
   "cell_type": "code",
   "execution_count": null,
   "id": "60496047-3056-4826-b470-b9d345314187",
   "metadata": {},
   "outputs": [],
   "source": []
  }
 ],
 "metadata": {
  "kernelspec": {
   "display_name": "Python 3 (ipykernel)",
   "language": "python",
   "name": "python3"
  },
  "language_info": {
   "codemirror_mode": {
    "name": "ipython",
    "version": 3
   },
   "file_extension": ".py",
   "mimetype": "text/x-python",
   "name": "python",
   "nbconvert_exporter": "python",
   "pygments_lexer": "ipython3",
   "version": "3.10.12"
  }
 },
 "nbformat": 4,
 "nbformat_minor": 5
}
