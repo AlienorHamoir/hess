{
 "cells": [
  {
   "cell_type": "code",
   "execution_count": null,
   "id": "82ae5d6c-b854-4774-aa91-4f5d5c8296ea",
   "metadata": {},
   "outputs": [],
   "source": [
    "# set_idd.py\n",
    "import eppy\n",
    "from eppy import modeleditor\n",
    "from eppy.modeleditor import IDF\n",
    "\n",
    "# Define the IDD file path using raw strings\n",
    "iddfile = r'C:\\Users\\alienor\\Documents\\hess\\resources\\loads\\V1-4-0-Energy+.idd'\n",
    "\n",
    "# Set the IDD file\n",
    "IDF.setiddname(iddfile)\n",
    "\n",
    "print(f\"IDD file has been set to: {iddfile}\")\n"
   ]
  }
 ],
 "metadata": {
  "kernelspec": {
   "display_name": "Python 3 (ipykernel)",
   "language": "python",
   "name": "python3"
  },
  "language_info": {
   "codemirror_mode": {
    "name": "ipython",
    "version": 3
   },
   "file_extension": ".py",
   "mimetype": "text/x-python",
   "name": "python",
   "nbconvert_exporter": "python",
   "pygments_lexer": "ipython3",
   "version": "3.10.12"
  }
 },
 "nbformat": 4,
 "nbformat_minor": 5
}
