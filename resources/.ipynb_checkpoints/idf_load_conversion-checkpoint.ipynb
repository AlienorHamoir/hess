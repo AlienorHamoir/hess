{
 "cells": [
  {
   "cell_type": "code",
   "execution_count": 20,
   "id": "93c3f16a-645a-4e67-bcb6-f26ca656fe09",
   "metadata": {},
   "outputs": [
    {
     "name": "stdout",
     "output_type": "stream",
     "text": [
      "IDD file path: C:\\Users\\alienor\\Documents\\hess\\resources\\loads\\V1-4-0-Energy+.idd\n",
      "IDF file path: C:\\Users\\alienor\\Documents\\hess\\resources\\loads\\RefBldgSecondarySchoolNew2004_v1.4_7.2_3B_USA_CA_LOS_ANGELES.idf\n"
     ]
    },
    {
     "ename": "FileNotFoundError",
     "evalue": "IDD file not found: C:\\Users\\alienor\\Documents\\hess\\resources\\loads\\V1-4-0-Energy+.idd",
     "output_type": "error",
     "traceback": [
      "\u001b[0;31m---------------------------------------------------------------------------\u001b[0m",
      "\u001b[0;31mFileNotFoundError\u001b[0m                         Traceback (most recent call last)",
      "Cell \u001b[0;32mIn[20], line 23\u001b[0m\n\u001b[1;32m     21\u001b[0m \u001b[38;5;66;03m# Check if the files exist\u001b[39;00m\n\u001b[1;32m     22\u001b[0m \u001b[38;5;28;01mif\u001b[39;00m \u001b[38;5;129;01mnot\u001b[39;00m os\u001b[38;5;241m.\u001b[39mpath\u001b[38;5;241m.\u001b[39misfile(iddfile):\n\u001b[0;32m---> 23\u001b[0m     \u001b[38;5;28;01mraise\u001b[39;00m \u001b[38;5;167;01mFileNotFoundError\u001b[39;00m(\u001b[38;5;124mf\u001b[39m\u001b[38;5;124m\"\u001b[39m\u001b[38;5;124mIDD file not found: \u001b[39m\u001b[38;5;132;01m{\u001b[39;00middfile\u001b[38;5;132;01m}\u001b[39;00m\u001b[38;5;124m\"\u001b[39m)\n\u001b[1;32m     24\u001b[0m \u001b[38;5;28;01mif\u001b[39;00m \u001b[38;5;129;01mnot\u001b[39;00m os\u001b[38;5;241m.\u001b[39mpath\u001b[38;5;241m.\u001b[39misfile(idffile):\n\u001b[1;32m     25\u001b[0m     \u001b[38;5;28;01mraise\u001b[39;00m \u001b[38;5;167;01mFileNotFoundError\u001b[39;00m(\u001b[38;5;124mf\u001b[39m\u001b[38;5;124m\"\u001b[39m\u001b[38;5;124mIDF file not found: \u001b[39m\u001b[38;5;132;01m{\u001b[39;00midffile\u001b[38;5;132;01m}\u001b[39;00m\u001b[38;5;124m\"\u001b[39m)\n",
      "\u001b[0;31mFileNotFoundError\u001b[0m: IDD file not found: C:\\Users\\alienor\\Documents\\hess\\resources\\loads\\V1-4-0-Energy+.idd"
     ]
    }
   ],
   "source": [
    "import importlib\n",
    "import os\n",
    "import eppy\n",
    "from eppy import modeleditor\n",
    "from eppy.modeleditor import IDF\n",
    "\n",
    "# Function to reload eppy\n",
    "def reset_eppy():\n",
    "    importlib.reload(eppy)\n",
    "    importlib.reload(modeleditor)\n",
    "    importlib.reload(IDF)\n",
    "\n",
    "# Define the paths using raw strings\n",
    "iddfile = r'C:\\Users\\alienor\\Documents\\hess\\resources\\loads\\V1-4-0-Energy.idd'\n",
    "idffile = r'C:\\Users\\alienor\\Documents\\hess\\resources\\loads\\RefBldgSecondarySchoolNew2004_v1.4_7.2_3B_USA_CA_LOS_ANGELES.idf'\n",
    "\n",
    "# Print the paths for debugging\n",
    "print(f\"IDD file path: {iddfile}\")\n",
    "print(f\"IDF file path: {idffile}\")\n",
    "\n",
    "# Check if the files exist\n",
    "if not os.path.isfile(iddfile):\n",
    "    raise FileNotFoundError(f\"IDD file not found: {iddfile}\")\n",
    "if not os.path.isfile(idffile):\n",
    "    raise FileNotFoundError(f\"IDF file not found: {idffile}\")\n",
    "\n",
    "# Reset eppy to clear the previous IDD setting\n",
    "reset_eppy()\n",
    "\n",
    "# Set the IDD file\n",
    "IDF.setiddname(iddfile)\n",
    "\n",
    "# Read the IDF file\n",
    "idf = IDF(idffile)\n",
    "\n",
    "# Access the ZONE objects\n",
    "zones = idf.idfobjects['ZONE']\n",
    "\n",
    "# Write the zone names to a CSV file\n",
    "with open('zones.csv', 'w') as f:\n",
    "    f.write('ZoneName\\n')\n",
    "    for zone in zones:\n",
    "        f.write(f\"{zone.Name}\\n\")\n",
    "\n"
   ]
  },
  {
   "cell_type": "code",
   "execution_count": 9,
   "id": "d7f9b7eb-1cd4-4f9e-a9a5-c2099af7eeec",
   "metadata": {},
   "outputs": [],
   "source": [
    "import eppy\n",
    "from eppy import modeleditor\n",
    "from eppy.modeleditor import IDF"
   ]
  },
  {
   "cell_type": "code",
   "execution_count": 16,
   "id": "8a79ac23-69db-476e-8e41-5a6c71892b9c",
   "metadata": {},
   "outputs": [],
   "source": [
    "iddfile = r'C:\\Users\\alienor\\Documents\\hess\\resources\\loads\\V1-4-0-Energy+.idd'\n",
    "idffile = r'C:\\Users\\alienor\\Documents\\hess\\resources\\loads\\RefBldgSecondarySchoolNew2004_v1.4_7.2_3B_USA_CA_LOS_ANGELES.idf'\n"
   ]
  },
  {
   "cell_type": "code",
   "execution_count": 17,
   "id": "747d7e7f-db78-49d5-a029-8ea98fab7acf",
   "metadata": {},
   "outputs": [
    {
     "ename": "IDDAlreadySetError",
     "evalue": "IDD file is set to: /loads/V1-4-0-Energy+.idd",
     "output_type": "error",
     "traceback": [
      "\u001b[0;31m---------------------------------------------------------------------------\u001b[0m",
      "\u001b[0;31mIDDAlreadySetError\u001b[0m                        Traceback (most recent call last)",
      "Cell \u001b[0;32mIn[17], line 1\u001b[0m\n\u001b[0;32m----> 1\u001b[0m \u001b[43mIDF\u001b[49m\u001b[38;5;241;43m.\u001b[39;49m\u001b[43msetiddname\u001b[49m\u001b[43m(\u001b[49m\u001b[43middfile\u001b[49m\u001b[43m)\u001b[49m\n\u001b[1;32m      2\u001b[0m idf \u001b[38;5;241m=\u001b[39m IDF(idffile)\n\u001b[1;32m      4\u001b[0m \u001b[38;5;66;03m# Now, you can access idf objects and save them as needed\u001b[39;00m\n\u001b[1;32m      5\u001b[0m \u001b[38;5;66;03m# For example, extracting all Zone names and writing to a CSV\u001b[39;00m\n",
      "File \u001b[0;32m/usr/local/lib/python3.10/dist-packages/eppy/modeleditor.py:615\u001b[0m, in \u001b[0;36mIDF.setiddname\u001b[0;34m(cls, iddname, testing)\u001b[0m\n\u001b[1;32m    613\u001b[0m \u001b[38;5;28;01mif\u001b[39;00m testing \u001b[38;5;241m==\u001b[39m \u001b[38;5;28;01mFalse\u001b[39;00m:\n\u001b[1;32m    614\u001b[0m     errortxt \u001b[38;5;241m=\u001b[39m \u001b[38;5;124m\"\u001b[39m\u001b[38;5;124mIDD file is set to: \u001b[39m\u001b[38;5;132;01m%s\u001b[39;00m\u001b[38;5;124m\"\u001b[39m \u001b[38;5;241m%\u001b[39m (\u001b[38;5;28mcls\u001b[39m\u001b[38;5;241m.\u001b[39middname,)\n\u001b[0;32m--> 615\u001b[0m     \u001b[38;5;28;01mraise\u001b[39;00m IDDAlreadySetError(errortxt)\n",
      "\u001b[0;31mIDDAlreadySetError\u001b[0m: IDD file is set to: /loads/V1-4-0-Energy+.idd"
     ]
    }
   ],
   "source": [
    "IDF.setiddname(iddfile)\n",
    "idf = IDF(idffile)\n",
    "\n",
    "# Now, you can access idf objects and save them as needed\n",
    "# For example, extracting all Zone names and writing to a CSV\n",
    "zones = idf.idfobjects['ZONE']\n",
    "\n",
    "with open('zones.csv', 'w') as f:\n",
    "    f.write('ZoneName\\n')\n",
    "    for zone in zones:\n",
    "        f.write(f\"{zone.Name}\\n\")"
   ]
  },
  {
   "cell_type": "code",
   "execution_count": null,
   "id": "1b575a4f-d28f-45cb-8ba9-1654330ceaf2",
   "metadata": {},
   "outputs": [],
   "source": []
  }
 ],
 "metadata": {
  "kernelspec": {
   "display_name": "Python 3 (ipykernel)",
   "language": "python",
   "name": "python3"
  },
  "language_info": {
   "codemirror_mode": {
    "name": "ipython",
    "version": 3
   },
   "file_extension": ".py",
   "mimetype": "text/x-python",
   "name": "python",
   "nbconvert_exporter": "python",
   "pygments_lexer": "ipython3",
   "version": "3.10.12"
  }
 },
 "nbformat": 4,
 "nbformat_minor": 5
}
