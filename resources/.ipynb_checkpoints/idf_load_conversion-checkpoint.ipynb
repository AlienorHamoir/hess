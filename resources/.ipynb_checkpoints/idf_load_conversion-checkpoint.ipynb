{
 "cells": [
  {
   "cell_type": "code",
   "execution_count": 1,
   "id": "d7f9b7eb-1cd4-4f9e-a9a5-c2099af7eeec",
   "metadata": {},
   "outputs": [
    {
     "ename": "ModuleNotFoundError",
     "evalue": "No module named 'eppy'",
     "output_type": "error",
     "traceback": [
      "\u001b[0;31m---------------------------------------------------------------------------\u001b[0m",
      "\u001b[0;31mModuleNotFoundError\u001b[0m                       Traceback (most recent call last)",
      "Cell \u001b[0;32mIn[1], line 1\u001b[0m\n\u001b[0;32m----> 1\u001b[0m \u001b[38;5;28;01mimport\u001b[39;00m \u001b[38;5;21;01meppy\u001b[39;00m\n\u001b[1;32m      2\u001b[0m \u001b[38;5;28;01mfrom\u001b[39;00m \u001b[38;5;21;01meppy\u001b[39;00m \u001b[38;5;28;01mimport\u001b[39;00m modeleditor\n\u001b[1;32m      3\u001b[0m \u001b[38;5;28;01mfrom\u001b[39;00m \u001b[38;5;21;01meppy\u001b[39;00m\u001b[38;5;21;01m.\u001b[39;00m\u001b[38;5;21;01mmodeleditor\u001b[39;00m \u001b[38;5;28;01mimport\u001b[39;00m IDF\n",
      "\u001b[0;31mModuleNotFoundError\u001b[0m: No module named 'eppy'"
     ]
    }
   ],
   "source": [
    "import eppy\n",
    "from eppy import modeleditor\n",
    "from eppy.modeleditor import IDF"
   ]
  },
  {
   "cell_type": "code",
   "execution_count": null,
   "id": "8a79ac23-69db-476e-8e41-5a6c71892b9c",
   "metadata": {},
   "outputs": [],
   "source": [
    "idffile = '/loads'  # Path to the IDF file\n"
   ]
  },
  {
   "cell_type": "code",
   "execution_count": null,
   "id": "747d7e7f-db78-49d5-a029-8ea98fab7acf",
   "metadata": {},
   "outputs": [],
   "source": [
    "IDF.setiddname(iddfile)\n",
    "idf = IDF(idffile)\n",
    "\n",
    "# Now, you can access idf objects and save them as needed\n",
    "# For example, extracting all Zone names and writing to a CSV\n",
    "zones = idf.idfobjects['ZONE']\n",
    "\n",
    "with open('zones.csv', 'w') as f:\n",
    "    f.write('ZoneName\\n')\n",
    "    for zone in zones:\n",
    "        f.write(f\"{zone.Name}\\n\")"
   ]
  }
 ],
 "metadata": {
  "kernelspec": {
   "display_name": "Python 3 (ipykernel)",
   "language": "python",
   "name": "python3"
  },
  "language_info": {
   "codemirror_mode": {
    "name": "ipython",
    "version": 3
   },
   "file_extension": ".py",
   "mimetype": "text/x-python",
   "name": "python",
   "nbconvert_exporter": "python",
   "pygments_lexer": "ipython3",
   "version": "3.10.12"
  }
 },
 "nbformat": 4,
 "nbformat_minor": 5
}
